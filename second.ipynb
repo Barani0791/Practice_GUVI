{
 "cells": [
  {
   "cell_type": "code",
   "execution_count": 1,
   "id": "0ff95b0d",
   "metadata": {},
   "outputs": [
    {
     "name": "stdout",
     "output_type": "stream",
     "text": [
      "Hi\n",
      "give\n"
     ]
    }
   ],
   "source": [
    "print(\"Hi\")\n",
    "l = [\"give\",\"get\",\"great\",\"goat\"]\n",
    "print(l[0])"
   ]
  }
 ],
 "metadata": {
  "kernelspec": {
   "display_name": "Python 3",
   "language": "python",
   "name": "python3"
  },
  "language_info": {
   "codemirror_mode": {
    "name": "ipython",
    "version": 3
   },
   "file_extension": ".py",
   "mimetype": "text/x-python",
   "name": "python",
   "nbconvert_exporter": "python",
   "pygments_lexer": "ipython3",
   "version": "3.12.10"
  }
 },
 "nbformat": 4,
 "nbformat_minor": 5
}
